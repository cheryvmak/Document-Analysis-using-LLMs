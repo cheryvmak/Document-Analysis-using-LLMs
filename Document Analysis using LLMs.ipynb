{
 "cells": [
  {
   "cell_type": "markdown",
   "id": "ac01fdcb",
   "metadata": {},
   "source": [
    "# Extract Text from the PDF"
   ]
  },
  {
   "cell_type": "code",
   "execution_count": 1,
   "id": "bce3064b",
   "metadata": {},
   "outputs": [
    {
     "name": "stdout",
     "output_type": "stream",
     "text": [
      "Text extracted and saved to extracted_text.txt\n"
     ]
    }
   ],
   "source": [
    "import pdfplumber\n",
    "\n",
    "pdf_path = r'C:\\Users\\USER\\Downloads\\google_terms_of_service_en_in.pdf'\n",
    "\n",
    "output_text_file = \"extracted_text.txt\"\n",
    "\n",
    "with pdfplumber.open(pdf_path) as pdf:\n",
    "    extracted_text = \"\"\n",
    "    for page in pdf.pages:\n",
    "        extracted_text += page.extract_text()\n",
    "\n",
    "with open(output_text_file, \"w\") as text_file:\n",
    "    text_file.write(extracted_text)\n",
    "\n",
    "print(f\"Text extracted and saved to {output_text_file}\")"
   ]
  },
  {
   "cell_type": "markdown",
   "id": "96d74422",
   "metadata": {},
   "source": [
    "# Preview the Extracted Text"
   ]
  },
  {
   "cell_type": "markdown",
   "id": "27e8a97a",
   "metadata": {},
   "source": [
    "it’s essential to preview the content to ensure everything is correctly captured. This allows us to check for any formatting issues or missing content"
   ]
  },
  {
   "cell_type": "code",
   "execution_count": 2,
   "id": "d412c046",
   "metadata": {},
   "outputs": [
    {
     "name": "stdout",
     "output_type": "stream",
     "text": [
      "GOOGLE TERMS OF SERVICE\n",
      "Effective May 22, 2024 | Archived versions\n",
      "What’s covered in these terms\n",
      "We know it’s tempting to skip these Terms of\n",
      "Service, but it’s important to establish what you\n",
      "can expect from us as you use Google services,\n",
      "and what we expect from you.\n",
      "These Terms of Service re\u0000ect the way Google’s business works, the laws that apply to\n",
      "our company, and certain things we’ve always believed to be true. As a result, these Terms\n",
      "of Service help de\u0000ne Google’s relationship with you as\n"
     ]
    }
   ],
   "source": [
    "# reading pdf content\n",
    "with open(\"extracted_text.txt\", \"r\") as file:\n",
    "    document_text = file.read()\n",
    "\n",
    "# preview the document content\n",
    "print(document_text[:500])  # preview the first 500 characters"
   ]
  },
  {
   "cell_type": "markdown",
   "id": "0ab9ce91",
   "metadata": {},
   "source": [
    "# Summarize the Document"
   ]
  },
  {
   "cell_type": "markdown",
   "id": "72ca2e6e",
   "metadata": {},
   "source": [
    "To get a high-level overview of the document, we can use a pre-trained summarization model like t5-small. This allows us to condense large pieces of text into shorter summaries, which helps us to grasp the most important information. "
   ]
  },
  {
   "cell_type": "code",
   "execution_count": 3,
   "id": "4e1fdd53",
   "metadata": {},
   "outputs": [
    {
     "name": "stderr",
     "output_type": "stream",
     "text": [
      "C:\\Users\\USER\\anaconda3\\lib\\site-packages\\scipy\\__init__.py:146: UserWarning: A NumPy version >=1.16.5 and <1.23.0 is required for this version of SciPy (detected version 1.24.2\n",
      "  warnings.warn(f\"A NumPy version >={np_minversion} and <{np_maxversion}\"\n"
     ]
    },
    {
     "name": "stdout",
     "output_type": "stream",
     "text": [
      "Summary: these Terms of Service reect the way Google’s business works, the laws that apply to our company, and certain things we’ve always believed to be true . these terms include: what you can expect from us, which describes how we provide and develop our services What we expect from you, which establishes certain rules for using our services Content in Google services .\n"
     ]
    }
   ],
   "source": [
    "from transformers import pipeline\n",
    "\n",
    "# load the summarization pipeline\n",
    "summarizer = pipeline(\"summarization\", model=\"t5-small\")\n",
    "\n",
    "# summarize the document text (you can summarize parts if the document is too large)\n",
    "summary = summarizer(document_text[:1000], max_length=150, min_length=30, do_sample=False)\n",
    "print(\"Summary:\", summary[0]['summary_text'])"
   ]
  },
  {
   "cell_type": "code",
   "execution_count": null,
   "id": "27d87383",
   "metadata": {},
   "outputs": [],
   "source": []
  },
  {
   "cell_type": "markdown",
   "id": "98217932",
   "metadata": {},
   "source": [
    "The pipeline(“summarization”, model= “t5-small”) sets up the summarization model using T5-small, a pre-trained transformer model designed for text summarization. The document_text[:1000] specifies the portion of the text to summarize (the first 1000 characters), while max_length = 150 and min_length = 30 control the maximum and minimum length of the summary in tokens. The do_sample = False parameter ensures deterministic output, meaning the model will not randomly sample from possible summaries but will give the same result every time."
   ]
  },
  {
   "cell_type": "markdown",
   "id": "f784c675",
   "metadata": {},
   "source": [
    "# Split the Document into Sentences and Passages"
   ]
  },
  {
   "cell_type": "markdown",
   "id": "ea4235a7",
   "metadata": {},
   "source": [
    "For more detailed analysis, like question generation, it’s important to split the document into smaller chunks. This step tokenizes the document into sentences and combines them into manageable passages for subsequent steps."
   ]
  },
  {
   "cell_type": "code",
   "execution_count": 4,
   "id": "fa2ce655",
   "metadata": {},
   "outputs": [
    {
     "name": "stderr",
     "output_type": "stream",
     "text": [
      "[nltk_data] Downloading package punkt to\n",
      "[nltk_data]     C:\\Users\\USER\\AppData\\Roaming\\nltk_data...\n",
      "[nltk_data]   Package punkt is already up-to-date!\n"
     ]
    },
    {
     "data": {
      "text/plain": [
       "True"
      ]
     },
     "execution_count": 4,
     "metadata": {},
     "output_type": "execute_result"
    }
   ],
   "source": [
    "import nltk\n",
    "nltk.download('punkt')"
   ]
  },
  {
   "cell_type": "code",
   "execution_count": 5,
   "id": "a5fa817b",
   "metadata": {},
   "outputs": [
    {
     "name": "stderr",
     "output_type": "stream",
     "text": [
      "[nltk_data] Downloading package punkt_tab to\n",
      "[nltk_data]     C:\\Users\\USER\\AppData\\Roaming\\nltk_data...\n",
      "[nltk_data]   Package punkt_tab is already up-to-date!\n"
     ]
    }
   ],
   "source": [
    "import nltk\n",
    "nltk.download('punkt_tab')\n",
    "from nltk.tokenize import sent_tokenize\n",
    "\n",
    "# split text into sentences\n",
    "sentences = sent_tokenize(document_text)\n",
    "\n",
    "# combine sentences into passages\n",
    "passages = []\n",
    "current_passage = \"\"\n",
    "for sentence in sentences:\n",
    "    if len(current_passage.split()) + len(sentence.split()) < 200:  # adjust the word limit as needed\n",
    "        current_passage += \" \" + sentence\n",
    "    else:\n",
    "        passages.append(current_passage.strip())\n",
    "        current_passage = sentence\n",
    "if current_passage:\n",
    "    passages.append(current_passage.strip())"
   ]
  },
  {
   "cell_type": "markdown",
   "id": "0c3f7d35",
   "metadata": {},
   "source": [
    "We make using the NLTK library to split the extracted document text into individual sentences using the sent_tokenize() function. Then, we combine these sentences into manageable passages by setting a word limit of 200 words for each passage. This helps ensure that each passage is of a suitable length for further processing by language models, which often have token limits. If the current passage exceeds the word limit, it is appended to the passages list, and the process continues until all sentences are grouped into passages."
   ]
  },
  {
   "cell_type": "markdown",
   "id": "cf99c92e",
   "metadata": {},
   "source": [
    "# Generate Questions from the Passages Using LLMs"
   ]
  },
  {
   "cell_type": "code",
   "execution_count": null,
   "id": "5f327e35",
   "metadata": {},
   "outputs": [
    {
     "name": "stdout",
     "output_type": "stream",
     "text": [
      "Passage 1:\n",
      "GOOGLE TERMS OF SERVICE\n",
      "Effective May 22, 2024 | Archived versions\n",
      "What’s covered in these terms\n",
      "We know it’s tempting to skip these Terms of\n",
      "Service, but it’s important to establish what you\n",
      "can expect from us as you use Google services,\n",
      "and what we expect from you. These Terms of Service re\u0000ect the way Google’s business works, the laws that apply to\n",
      "our company, and certain things we’ve always believed to be true. As a result, these Terms\n",
      "of Service help de\u0000ne Google’s relationship with you as you interact with our services. For\n",
      "example, these terms include the following topic headings:\n",
      "What you can expect from us, which describes how we provide and develop our\n",
      "services\n",
      "What we expect from you, which establishes certain rules for using our services\n",
      "Content in Google services, which describes the intellectual property rights to the\n",
      "content you \u0000nd in our services — whether that content belongs to you, Google, or\n",
      "others\n",
      "In case of problems or disagreements, which describes other legal rights you have,\n",
      "and what to expect in case someone violates these terms\n",
      "Understanding these terms is important because, by accessing or using our services,\n",
      "you’re agreeing to these terms.\n",
      "\n",
      "Generated Questions:\n",
      "- What is the meaning of the Terms of Service?\n",
      "- What are the terms of service that govern how Google operates?\n",
      "- What do these Terms of Service help define?\n",
      "\n",
      "--------------------------------------------------\n",
      "\n",
      "Passage 2:\n",
      "Besides these terms, we also publish a Privacy Policy. Although it’s not part of these\n",
      "terms, we encourage you to read it to better understand how you can update, manage,\n",
      "export, and delete your information.Terms\n",
      "Service provider\n",
      "Google services are provided by, and you’re contracting with:\n",
      "Google LLC\n",
      "organized under the laws of the State of Delaware, USA, and operating under the laws of\n",
      "the USA\n",
      "1600 Amphitheatre Parkway\n",
      "Mountain View, California 94043\n",
      "USA\n",
      "Age requirements\n",
      "If you’re under the age required to manage your own Google Account, you must have\n",
      "your parent or legal guardian’s permission to use a Google Account. Please have your\n",
      "parent or legal guardian read these terms with you. If you’re a parent or legal guardian, and you allow your child to use the services, then\n",
      "these terms apply to you and you’re responsible for your child’s activity on the services. Some Google services have additional age requirements as described in their service-\n",
      "speci\u0000c additional terms and policies. Your relationship with GoogleThese terms help de\u0000ne the relationship between you and Google. When we speak of\n",
      "“Google,” “we,” “us,” and “our,” we mean Google LLC and its a\u0000liates, excluding any local\n",
      "entities based in India.\n",
      "\n",
      "Generated Questions:\n",
      "- What is the name of the company that provides Google services?\n",
      "- What is the name of the company that Google LLC provides services to?\n",
      "- What is the name of the company that provides Google services?\n",
      "\n",
      "--------------------------------------------------\n",
      "\n",
      "Passage 3:\n",
      "Broadly speaking, we give you permission to access and use our\n",
      "services if you agree to follow these terms, which re\u0000ect how Google’s business works\n",
      "and how we earn money. What you can expect from us\n",
      "Provide a broad range of useful services\n",
      "We provide a broad range of services that are subject to these terms, including:\n",
      "apps and sites (like Search and Maps)\n",
      "platforms (like Google Shopping)\n",
      "integrated services (like Maps embedded in other companies’ apps or sites)\n",
      "devices (like Google Nest and Pixel)\n",
      "Many of these services also include content that you can stream or interact with. Our services are designed to work together, making it easier for you to move from one\n",
      "activity to the next. For example, if your Calendar event includes an address, you can click\n",
      "on that address and Maps can show you how to get there. Develop, improve, and update Google services\n",
      "We’re constantly developing new technologies and features to improve our services. For\n",
      "example, we use arti\u0000cial intelligence and machine learning to provide you with\n",
      "simultaneous translations, and to better detect and block spam and malware.\n",
      "\n",
      "Generated Questions:\n",
      "- What are the terms that govern how Google earns money?\n",
      "- What are the terms of service that you can expect from Google?\n",
      "- What are some of the services that Google provides that are subject to these terms?\n",
      "\n",
      "--------------------------------------------------\n",
      "\n",
      "Passage 4:\n",
      "As part of\n",
      "this continual improvement, we sometimes add or remove features and functionalities,\n",
      "increase or decrease limits to our services, and start offering new services or stop offering\n",
      "old ones. When a service requires or includes downloadable or preloaded software, that\n",
      "software sometimes updates automatically on your device once a new version or feature\n",
      "is available. Some services let you adjust your automatic update settings.If we make material changes that negatively impact your use of our services or if we stop\n",
      "offering a service, we’ll provide you with reasonable advance notice, except in urgent\n",
      "situations such as preventing abuse, responding to legal requirements, or addressing\n",
      "security and operability issues. We’ll also provide you with an opportunity to export your\n",
      "content from your Google Account using Google Takeout, subject to applicable law and\n",
      "policies.\n",
      "\n",
      "Generated Questions:\n",
      "- What is one way that Google may improve its services?\n",
      "- What does it mean to have a new feature or feature available?\n",
      "- What is the name of the software that updates automatically on your device?\n",
      "\n",
      "--------------------------------------------------\n",
      "\n",
      "Passage 5:\n",
      "What we expect from you\n",
      "Follow these terms and service-speci\u0000c additional terms\n",
      "The permission we give you to access and use our services continues as long as you\n",
      "comply with:\n",
      "these terms\n",
      "service-speci\u0000c additional terms, which could, for example, include things like\n",
      "additional age requirements\n",
      "We also make various policies, help centers, and other resources available to you to\n",
      "answer common questions and to set expectations about using our services. These\n",
      "resources include our Privacy Policy, Copyright Help Center, Safety Center, Transparency\n",
      "Center,and other pages accessible from our policies site. Finally, we may provide speci\u0000c\n",
      "instructions and warnings within our services – such as dialog boxes that alert you to\n",
      "important information. Although we give you permission to use our services, we retain any intellectual property\n",
      "rights we have in the services.\n",
      "\n",
      "Generated Questions:\n",
      "- What are the terms that we expect from you?\n",
      "- What are some of the terms that we give you to access and use our services?\n",
      "- What resources are available from our policies site?\n",
      "\n",
      "--------------------------------------------------\n",
      "\n",
      "Passage 6:\n",
      "Respect others\n",
      "We want to maintain a respectful environment for everyone, which means you must\n",
      "follow these basic rules of conduct:\n",
      "comply with applicable laws, including export control, sanctions, money laundering,\n",
      "and human tra\u0000cking laws\n",
      "respect the rights of others, including privacy and intellectual property rightsdon’t abuse or harm others or yourself (or threaten or encourage such abuse or\n",
      "harm) including against children — for example, by misleading, defrauding, illegally\n",
      "impersonating, defaming, bullying, harassing, or stalking others; hosting or\n",
      "publishing any obscene content; or inciting the violation of applicable laws\n",
      "Our service-speci\u0000c additional terms and policies, such as our Generative AI Prohibited\n",
      "Use Policy, provide additional details about appropriate conduct that everyone using\n",
      "those services must follow. If you \u0000nd that others aren’t following these rules, many of\n",
      "our services allow you to report abuse. If we act on a report of abuse, we also provide the\n",
      "process described in the Taking action in case of problems section. Don’t abuse our services\n",
      "Most people who access or use our services understand the general rules that keep the\n",
      "internet safe and open.\n",
      "\n",
      "Generated Questions:\n",
      "- What are some basic rules of conduct?\n",
      "- What are some basic rules of conduct?\n",
      "- What is the process for reporting abuse?\n",
      "\n",
      "--------------------------------------------------\n",
      "\n",
      "Passage 7:\n",
      "Unfortunately, a small number of people don’t respect those rules,\n",
      "so we’re describing them here to protect our services and users from abuse.\n",
      "\n",
      "Generated Questions:\n",
      "- What are the rules that we describe to protect our users from abuse?\n",
      "- What are the rules that we describe to protect our users from abuse?\n",
      "\n",
      "--------------------------------------------------\n",
      "\n"
     ]
    },
    {
     "name": "stdout",
     "output_type": "stream",
     "text": [
      "Passage 8:\n",
      "In that spirit:\n",
      "You must not abuse, harm, interfere with, or disrupt our services or systems — for\n",
      "example, by:\n",
      "introducing malware\n",
      "spamming, hacking, or bypassing our systems or protective measures\n",
      "jailbreaking, adversarial prompting, or prompt injection, except as part of our safety\n",
      "and bug testing programs\n",
      "accessing or using our services or content in fraudulent or deceptive ways, such as:\n",
      "phishing\n",
      "creating fake accounts or content, including fake reviews\n",
      "misleading others into thinking that generative AI content was created by a\n",
      "human\n",
      "providing services that appear to originate from you (or someone else) when\n",
      "they actually originate from us\n",
      "providing services that appear to originate from us when they do not\n",
      "using our services (including the content they provide) to violate anyone’s legal\n",
      "rights, such as intellectual property or privacy rightsreverse engineering our services or underlying technology, such as our machine\n",
      "learning models, to extract trade secrets or other proprietary information, except as\n",
      "allowed by applicable law\n",
      "using automated means to access content from any of our services in violation of\n",
      "the machine-readable instructions on our web pages (for example, robots.txt \u0000les\n",
      "that disallow crawling, training, or other activities)\n",
      "using AI-generated content from our services to develop machine learning models or\n",
      "related AI technology\n",
      "hiding or misrepresenting who you are in order to violate these terms\n",
      "providing services that encourage others to violate these terms\n",
      "Permission to use your content\n",
      "Some of our services are designed to let you upload, submit, store, send, receive, or share\n",
      "your content.\n",
      "\n",
      "Generated Questions:\n",
      "- What is a violation of the terms of service?\n",
      "- What is a violation of the terms of service?\n",
      "\n",
      "--------------------------------------------------\n",
      "\n",
      "Passage 9:\n",
      "You have no obligation to provide any content to our services and you’re\n",
      "free to choose the content that you want to provide. If you choose to upload or share\n",
      "content, please make sure you have the necessary rights to do so and that the content is\n",
      "lawful. License\n",
      "Your content remains yours, which means that you retain any\n",
      "intellectual property rights that you have in your content. For\n",
      "example, you have intellectual property rights in the creative content\n",
      "you make, such as reviews you write. Or you may have the right to\n",
      "share someone else’s creative content if they’ve given you their\n",
      "permission. We need your permission if your intellectual property rights restrict\n",
      "our use of your content. You provide Google with that permission\n",
      "through this license.What’s covered\n",
      "This license covers your content if that content is protected by\n",
      "intellectual property rights. What’s not covered\n",
      "This license doesn’t affect your privacy rights — it’s only about\n",
      "your intellectual property rights\n",
      "This license doesn’t cover these types of content:\n",
      "publicly-available factual information that you provide,\n",
      "such as corrections to the address of a local business.\n",
      "\n",
      "Generated Questions:\n",
      "- What is the scope of the license?\n",
      "- What rights do you have to upload or share content?\n",
      "- What is the legal name of the content you share?\n",
      "\n",
      "--------------------------------------------------\n",
      "\n",
      "Passage 10:\n",
      "That information doesn’t require a license because it’s\n",
      "considered common knowledge that everyone’s free to\n",
      "use. feedback that you offer, such as suggestions to\n",
      "improve our services. Feedback is covered in the\n",
      "Service-related communications section below.\n",
      "\n",
      "Generated Questions:\n",
      "- What is the name of the information that is considered common knowledge?\n",
      "- What is the general rule of the free use of feedback that you provide?\n",
      "- What is the Service-related communication section below?\n",
      "\n",
      "--------------------------------------------------\n",
      "\n",
      "Passage 11:\n",
      "Scope\n",
      "This license is:\n",
      "worldwide, which means it’s valid anywhere in the world\n",
      "non-exclusive, which means you can license your content to\n",
      "others\n",
      "royalty-free, which means there are no monetary fees for this\n",
      "license\n",
      "Rights\n",
      "This license allows Google to:host, reproduce, distribute, communicate, and use your content\n",
      "— for example, to save your content on our systems and make\n",
      "it accessible from anywhere you go\n",
      "publish, publicly perform, or publicly display your content, if\n",
      "you’ve made it visible to others\n",
      "modify and create derivative works based on your content,\n",
      "such as reformatting or translating it\n",
      "sublicense these rights to:\n",
      "other users to allow the services to work as designed,\n",
      "such as enabling you to share photos with people you\n",
      "choose\n",
      "our contractors who’ve signed agreements with us that\n",
      "are consistent with these terms, only for the limited\n",
      "purposes described in the Purpose section below\n",
      "Purpose\n",
      "This license is for the limited purpose of:\n",
      "operating and improving the services, which means allowing\n",
      "the services to work as designed and creating new features\n",
      "and functionalities.\n",
      "\n",
      "Generated Questions:\n",
      "- What is the scope of the license?\n",
      "- What is the scope of the license?\n",
      "\n",
      "--------------------------------------------------\n",
      "\n",
      "Passage 12:\n",
      "This includes using automated systems\n",
      "and algorithms to analyze your content:\n",
      "for spam and malware\n",
      "to recognize patterns in data, such as determining\n",
      "when to suggest a new album in Google Photos to keep\n",
      "related photos together\n",
      "to customize our services for you, such as providing\n",
      "recommendations and personalized search results,\n",
      "content, and ads (which you can change or turn off in\n",
      "Ads Settings)\n",
      "This analysis occurs as the content is sent, received, and when\n",
      "it is stored.using content you’ve shared publicly to promote the services. For example, to promote a Google app, we might quote a\n",
      "review you wrote. Or to promote Google Play, we might show a\n",
      "screenshot of the app you offer in the Play Store. developing new technologies and services for Google\n",
      "consistent with these terms\n",
      "Duration\n",
      "This license lasts for as long as your content is protected by\n",
      "intellectual property rights. If you remove from our services any content that’s covered by this\n",
      "license, then our systems will stop making that content publicly\n",
      "available in a reasonable amount of time. There are two exceptions:\n",
      "If you already shared your content with others before removing\n",
      "it.\n",
      "\n",
      "Generated Questions:\n",
      "- What is the purpose of the Google Analytics analysis?\n",
      "- What is the purpose of using Google Analytics to analyze your content?\n",
      "- What might we show to promote a Google app?\n",
      "\n",
      "--------------------------------------------------\n",
      "\n",
      "Passage 13:\n",
      "For example, if you shared a photo with a friend who then\n",
      "made a copy of it, or shared it again, then that photo may\n",
      "continue to appear in your friend’s Google Account even after\n",
      "you remove it from your Google Account. If you make your content available through other companies’\n",
      "services, it’s possible that search engines, including Google\n",
      "Search, will continue to \u0000nd and display your content as part of\n",
      "their search results. Using Google servicesYour Google Account\n",
      "If you meet these age requirements you can create a Google Account for your\n",
      "convenience. Some services require that you have a Google Account in order to work —\n",
      "for example, to use Gmail, you need a Google Account so that you have a place to send\n",
      "and receive your email. You’re responsible for what you do with your Google Account, including taking\n",
      "reasonable steps to keep your Google Account secure, and we encourage you to regularly\n",
      "use the Security Checkup. Using Google services on behalf of an organization or\n",
      "business\n",
      "Many organizations, such as businesses, non-pro\u0000ts, and schools, take advantage of our\n",
      "services.\n",
      "\n",
      "Generated Questions:\n",
      "- What is the age requirement for creating a Google account?\n",
      "- What happens to a photo that appears in a friend's Google Account even after you\n",
      "- What age requirements can you create a Google account for?\n",
      "\n",
      "--------------------------------------------------\n",
      "\n",
      "Passage 14:\n",
      "To use our services on behalf of an organization:\n",
      "an authorized representative of that organization must agree to these terms\n",
      "your organization’s administrator may assign a Google Account to you. That\n",
      "administrator might require you to follow additional rules and may be able to access\n",
      "or disable your Google Account. Service-related communications\n",
      "To provide you with our services, we sometimes send you service announcements and\n",
      "other information. To learn more about how we communicate with you, see Google’s\n",
      "Privacy Policy. If you choose to give us feedback, such as suggestions to improve our services, we may\n",
      "act on your feedback without obligation to you.Content in Google services\n",
      "Your content\n",
      "Some of our services allow you to generate original content. Google won’t claim\n",
      "ownership over that content. Some of our services give you the opportunity to make your content publicly available —\n",
      "for example, you might post a product or restaurant review that you wrote, or you might\n",
      "upload a blog post that you created.\n",
      "\n",
      "Generated Questions:\n",
      "- What is the name of the person who can use Google services on behalf of an organization?\n",
      "- What is the name of the person who can access your account?\n",
      "- What may be required of you to follow additional rules?\n",
      "\n",
      "--------------------------------------------------\n",
      "\n"
     ]
    }
   ],
   "source": [
    "# load the question generation pipeline\n",
    "qg_pipeline = pipeline(\"text2text-generation\", model=\"valhalla/t5-base-qg-hl\")\n",
    "\n",
    "# function to generate questions using the pipeline\n",
    "def generate_questions_pipeline(passage, min_questions=3):\n",
    "    input_text = f\"generate questions: {passage}\"\n",
    "    results = qg_pipeline(input_text)\n",
    "    questions = results[0]['generated_text'].split('<sep>')\n",
    "    \n",
    "     # ensure we have at least 3 questions\n",
    "    questions = [q.strip() for q in questions if q.strip()]\n",
    "    \n",
    "    # if fewer than 3 questions, try to regenerate from smaller parts of the passage\n",
    "    if len(questions) < min_questions:\n",
    "        passage_sentences = passage.split('. ')\n",
    "        for i in range(len(passage_sentences)):\n",
    "            if len(questions) >= min_questions:\n",
    "                break\n",
    "            additional_input = ' '.join(passage_sentences[i:i+2])\n",
    "            additional_results = qg_pipeline(f\"generate questions: {additional_input}\")\n",
    "            additional_questions = additional_results[0]['generated_text'].split('<sep>')\n",
    "            questions.extend([q.strip() for q in additional_questions if q.strip()])\n",
    "    \n",
    "    return questions[:min_questions]  # return only the top 3 questions\n",
    "\n",
    "# generate questions from passages\n",
    "for idx, passage in enumerate(passages):\n",
    "    questions = generate_questions_pipeline(passage)\n",
    "    print(f\"Passage {idx+1}:\\n{passage}\\n\")\n",
    "    print(\"Generated Questions:\")\n",
    "    for q in questions:\n",
    "        print(f\"- {q}\")\n",
    "    print(f\"\\n{'-'*50}\\n\")"
   ]
  },
  {
   "cell_type": "markdown",
   "id": "f9f4466f",
   "metadata": {},
   "source": [
    "we are using a question generation model (T5-based model valhalla/t5-base-qg-hl) from the Hugging Face transformers library to automatically generate questions from text passages. The function generate_questions_pipeline() takes a text passage as input and produces a list of questions. We generate at least three questions for each passage, and if not, we split the passage into smaller parts and generate additional questions. This approach guarantees comprehensive question generation for each passage, and we print the questions along with the corresponding passage for review. Below is the output for the passage 1"
   ]
  },
  {
   "cell_type": "code",
   "execution_count": null,
   "id": "59361447",
   "metadata": {},
   "outputs": [],
   "source": [
    "pip install sentencepiece"
   ]
  },
  {
   "cell_type": "markdown",
   "id": "d2defdfc",
   "metadata": {},
   "source": [
    "# Answer the Generated Questions Using a QA Model"
   ]
  },
  {
   "cell_type": "markdown",
   "id": "cf2babf0",
   "metadata": {},
   "source": [
    "We use a pre-trained question-answering (QA) model to find the answers within the text. The deepset/roberta-base-squad2 model extracts answers based on the context of the passage."
   ]
  },
  {
   "cell_type": "code",
   "execution_count": null,
   "id": "27471b93",
   "metadata": {},
   "outputs": [],
   "source": [
    "# load the QA pipeline\n",
    "qa_pipeline = pipeline(\"question-answering\", model=\"deepset/roberta-base-squad2\")\n",
    "\n",
    "# function to track and answer only unique questions\n",
    "def answer_unique_questions(passages, qa_pipeline):\n",
    "    answered_questions = set()  # to store unique questions\n",
    "\n",
    "    for idx, passage in enumerate(passages):\n",
    "        questions = generate_questions_pipeline(passage)\n",
    "\n",
    "        for question in questions:\n",
    "            if question not in answered_questions:  # check if the question has already been answered\n",
    "                answer = qa_pipeline({'question': question, 'context': passage})\n",
    "                print(f\"Q: {question}\")\n",
    "                print(f\"A: {answer['answer']}\\n\")\n",
    "                answered_questions.add(question)  # add the question to the set to avoid repetition\n",
    "        print(f\"{'='*50}\\n\")\n",
    "              \n",
    "answer_unique_questions(passages, qa_pipeline)"
   ]
  },
  {
   "cell_type": "markdown",
   "id": "62690c3c",
   "metadata": {},
   "source": [
    "we used a question-answering (QA) pipeline with the deepset/roberta-base-squad2 model to answer questions generated from the document passages. The function answer_unique_questions() tracks unique questions in a set to ensure it answers each question only once. As the code processes each passage, it checks whether it has already answered a question; if not, it generates an answer based on the passage’s context. This avoids answering duplicate questions and ensures efficient processing of all relevant queries."
   ]
  },
  {
   "cell_type": "code",
   "execution_count": null,
   "id": "ec85b478",
   "metadata": {},
   "outputs": [],
   "source": []
  }
 ],
 "metadata": {
  "kernelspec": {
   "display_name": "Python 3 (ipykernel)",
   "language": "python",
   "name": "python3"
  },
  "language_info": {
   "codemirror_mode": {
    "name": "ipython",
    "version": 3
   },
   "file_extension": ".py",
   "mimetype": "text/x-python",
   "name": "python",
   "nbconvert_exporter": "python",
   "pygments_lexer": "ipython3",
   "version": "3.9.7"
  }
 },
 "nbformat": 4,
 "nbformat_minor": 5
}
